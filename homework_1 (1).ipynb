{
 "cells": [
  {
   "cell_type": "markdown",
   "metadata": {},
   "source": [
    "<img src=\"http://imgur.com/1ZcRyrc.png\" style=\"float: left; margin: 20px; height: 55px\">\n",
    "\n",
    "# Project 1: Python Coding Exercises\n",
    "\n",
    "_Authors: Joseph Nelson (DC) _\n",
    "\n",
    "---"
   ]
  },
  {
   "cell_type": "markdown",
   "metadata": {},
   "source": [
    "The following code challenges are drawn from common exercises used in technical interviews.\n",
    "\n",
    "Please note that there may be several ways to approach each challenge. If you get stuck, try mapping out your approach in pseudocode first. Finally, while solutions to problems like these may be found online, remember that if you copy/paste code that you can't explain, you'll be missing out on the point of the project. The only way to truly learn a new skill is through practice, trial, and error - we can only help you improve by understanding where you are having trouble."
   ]
  },
  {
   "cell_type": "markdown",
   "metadata": {},
   "source": [
    "### Challenge 1: Largest Palindrome\n",
    "A palindromic number reads the same both ways. For example, 1234321 is a palindrome. The largest palindrome made from the product of two two-digit numbers is 9009 = 91 × 99. Find the largest palindrome made from the product of two three-digit numbers. Afterward, write a brief explanation walking through your code's logic in markdown."
   ]
  },
  {
   "cell_type": "code",
   "execution_count": 26,
   "metadata": {},
   "outputs": [
    {
     "name": "stdout",
     "output_type": "stream",
     "text": [
      "906609\n"
     ]
    }
   ],
   "source": [
    "#Challenge #1:\n",
    "\n",
    "max_pali = 0\n",
    "for i in range(100,999):\n",
    "    for j in range(100,999):\n",
    "      mult = i * j \n",
    "      if str(mult) == str(mult)[::-1]: \n",
    "          if mult > max_pali: \n",
    "              max_pali = mult\n",
    "print (max_pali)\n",
    "\n",
    "#Explanation: \n",
    "# The primary function of the code above is to indentify the largest palindrome made from the product of two three-digit numbers.\n",
    "# The first step is to create our variable (max_pali = 0) and to create the range of the two three-digit numbers (100-999).\n",
    "# Next we want to check to make sure that the outcome of multiplying i by j equals a plaindrome.\n",
    "# last we create an if statement to make sure the largest possible palidrome is created by two three-digit numbers. \n"
   ]
  },
  {
   "cell_type": "markdown",
   "metadata": {},
   "source": [
    "\n",
    "### Challenge 2: Summation of Primes\n",
    "The sum of the primes below 10 is 2 + 3 + 5 + 7 = 17. Find the sum of all the primes below 2,000. Afterward, write a brief explanation walking through your code's logic in markdown."
   ]
  },
  {
   "cell_type": "code",
   "execution_count": 39,
   "metadata": {},
   "outputs": [
    {
     "name": "stdout",
     "output_type": "stream",
     "text": [
      "277050\n"
     ]
    }
   ],
   "source": [
    "#Challenge 2:\n",
    "\n",
    "import math\n",
    "\n",
    "def sieve_Erat(num):\n",
    "    \n",
    "    sieve = [True] * (num + 1)\n",
    "    for i in range(2, int(math.sqrt(num)) + 1):\n",
    "        if sieve[i]:\n",
    "            sieve[i*i::i] = [False] * len(sieve[i*i::i])\n",
    "    return [i for i in range(2, num + 1) if sieve[i]]\n",
    "\n",
    "list_of_primes = sieve_Erat(2000)\n",
    "print(sum(list_of_primes))\n",
    "\n",
    "#Explanation: \n",
    "# Sieve of Eratastenese is used to retrun all primes below the given number (2000).\n",
    "# Next we need to create the range to indetify all prime numbers between 0-2000. \n",
    "# Following this step, we create a list that identifies all prime numbers between 0-2000.\n",
    "# The final step is to print the sum of the list of primes."
   ]
  },
  {
   "cell_type": "markdown",
   "metadata": {},
   "source": [
    "### Challenge 3: Multiples of 3 and 5\n",
    "If we list all of the natural numbers below 10 that are multiples of 3 or 5, we get 3, 5, 6, and 9. The sum of these multiples is 23. Find the sum of all the multiples of 3 and 5 below 1,000. Afterward, write a brief explanation walking through your code's logic in markdown."
   ]
  },
  {
   "cell_type": "code",
   "execution_count": 36,
   "metadata": {},
   "outputs": [
    {
     "name": "stdout",
     "output_type": "stream",
     "text": [
      "233168\n"
     ]
    }
   ],
   "source": [
    "#Challenge 3:\n",
    "\n",
    "total_sum = 0\n",
    "for i in range(1000):\n",
    "    if (i % 3 == 0 or i % 5 == 0):\n",
    "        total_sum = total_sum + i\n",
    "print (total_sum)   \n",
    "\n",
    "#Explanation: \n",
    "# The first step is to create the range (1000) and create an if statement to identify and find the sum of all multiples of 3 and 5 throughout the given range.\n",
    "# Next is to calucalte the sum or all multiples of 3 and 5 in the range of 2000."
   ]
  },
  {
   "cell_type": "markdown",
   "metadata": {},
   "source": [
    "### Challenge 4: String Compressor\n",
    "Implement a method to perform basic string compression using the counts of repeated characters. (This is called run-length encoding.) For example, the string \"aabcccccaaa\" would become a2b1c5a3. If the “compressed” string would not become smaller than the original string, your method should return the original string. You can assume the string has only uppercase and lowercase letters (a–z). Specify whether your solution is case sensitive or case insensitive and what you would need to change to make it the other. Afterward, write a brief explanation walking through your code's logic in markdown."
   ]
  },
  {
   "cell_type": "code",
   "execution_count": 40,
   "metadata": {},
   "outputs": [
    {
     "name": "stdout",
     "output_type": "stream",
     "text": [
      "a2b1c5a3\n"
     ]
    }
   ],
   "source": [
    "#Challenge 4:\n",
    "\n",
    "input_str_1 = \"aabcccccaaa\"\n",
    "\n",
    "def string_compression(input_str):\n",
    "    comp_str = \"\"\n",
    "    \n",
    "    count = 1 \n",
    "    for z in range(len(input_str)-1):\n",
    "        if input_str[z] == input_str[z+1]:\n",
    "            count += 1\n",
    "        else:\n",
    "            comp_str += input_str[z] + str(count)\n",
    "            count = 1 \n",
    "    comp_str += input_str[z] + str(count)\n",
    "    \n",
    "    if len(comp_str) >= len(input_str):\n",
    "        return input_str\n",
    "    else:\n",
    "        return comp_str\n",
    "    \n",
    "print(string_compression(input_str_1))\n",
    "\n",
    "#Explanation:\n",
    "# First step is to create the input string (input_str_1 = \"aabcccccaaa\") in which we want the our code to solve for. \n",
    "# Next step we want to define the string_compression and how the code will be able to analyze the input string. \n",
    "# The first if statement checks to see if the count for the character is 1. \n",
    "# The second if statement checks length of the end result and the original string to decide which one to return.\n"
   ]
  },
  {
   "cell_type": "markdown",
   "metadata": {},
   "source": [
    "### *BONUS* Challenge: FizzBuzz\n",
    "Write a program that prints all of the numbers from 1 to 100. For multiples of 3, instead of the number, print \"Fizz;\" for multiples of 5, print \"Buzz.\" For numbers that are multiples of both 3 and 5, print \"FizzBuzz.\" Afterward, write a brief explanation walking through your code's logic in markdown."
   ]
  },
  {
   "cell_type": "code",
   "execution_count": 28,
   "metadata": {},
   "outputs": [
    {
     "name": "stdout",
     "output_type": "stream",
     "text": [
      "fizzbuzz\n",
      "1\n",
      "2\n",
      "fizz\n",
      "4\n",
      "buzz\n",
      "fizz\n",
      "7\n",
      "8\n",
      "fizz\n",
      "buzz\n",
      "11\n",
      "fizz\n",
      "13\n",
      "14\n",
      "fizzbuzz\n",
      "16\n",
      "17\n",
      "fizz\n",
      "19\n",
      "buzz\n",
      "fizz\n",
      "22\n",
      "23\n",
      "fizz\n",
      "buzz\n",
      "26\n",
      "fizz\n",
      "28\n",
      "29\n",
      "fizzbuzz\n",
      "31\n",
      "32\n",
      "fizz\n",
      "34\n",
      "buzz\n",
      "fizz\n",
      "37\n",
      "38\n",
      "fizz\n",
      "buzz\n",
      "41\n",
      "fizz\n",
      "43\n",
      "44\n",
      "fizzbuzz\n",
      "46\n",
      "47\n",
      "fizz\n",
      "49\n",
      "buzz\n",
      "fizz\n",
      "52\n",
      "53\n",
      "fizz\n",
      "buzz\n",
      "56\n",
      "fizz\n",
      "58\n",
      "59\n",
      "fizzbuzz\n",
      "61\n",
      "62\n",
      "fizz\n",
      "64\n",
      "buzz\n",
      "fizz\n",
      "67\n",
      "68\n",
      "fizz\n",
      "buzz\n",
      "71\n",
      "fizz\n",
      "73\n",
      "74\n",
      "fizzbuzz\n",
      "76\n",
      "77\n",
      "fizz\n",
      "79\n",
      "buzz\n",
      "fizz\n",
      "82\n",
      "83\n",
      "fizz\n",
      "buzz\n",
      "86\n",
      "fizz\n",
      "88\n",
      "89\n",
      "fizzbuzz\n",
      "91\n",
      "92\n",
      "fizz\n",
      "94\n",
      "buzz\n",
      "fizz\n",
      "97\n",
      "98\n",
      "fizz\n"
     ]
    }
   ],
   "source": [
    "#Challenge 5: Bonus \n",
    "\n",
    "for fizzbuzz in range(100):\n",
    "    if fizzbuzz % 3 == 0 and fizzbuzz % 5 == 0:\n",
    "        print(\"fizzbuzz\")\n",
    "        continue\n",
    "    elif fizzbuzz % 3 == 0:\n",
    "        print(\"fizz\")\n",
    "        continue\n",
    "    elif fizzbuzz % 5 == 0:\n",
    "        print(\"buzz\")\n",
    "        continue\n",
    "    print(fizzbuzz)\n",
    "    "
   ]
  },
  {
   "cell_type": "code",
   "execution_count": null,
   "metadata": {},
   "outputs": [],
   "source": []
  }
 ],
 "metadata": {
  "anaconda-cloud": {},
  "kernelspec": {
   "display_name": "Python 3",
   "language": "python",
   "name": "python3"
  },
  "language_info": {
   "codemirror_mode": {
    "name": "ipython",
    "version": 3
   },
   "file_extension": ".py",
   "mimetype": "text/x-python",
   "name": "python",
   "nbconvert_exporter": "python",
   "pygments_lexer": "ipython3",
   "version": "3.7.3"
  }
 },
 "nbformat": 4,
 "nbformat_minor": 2
}
